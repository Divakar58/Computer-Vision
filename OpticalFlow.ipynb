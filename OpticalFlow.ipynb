{
 "cells": [
  {
   "cell_type": "code",
   "execution_count": 5,
   "metadata": {},
   "outputs": [],
   "source": [
    "import numpy as np\n",
    "import matplotlib.pyplot as plt\n",
    "import cv2"
   ]
  },
  {
   "cell_type": "markdown",
   "metadata": {},
   "source": [
    "## Lucas Kanada cordinate detection"
   ]
  },
  {
   "cell_type": "code",
   "execution_count": 2,
   "metadata": {},
   "outputs": [],
   "source": [
    "#corner detetction for goodfeaturetrack\n",
    "corner_track_params=dict(maxCorners=10,qualityLevel=0.03,minDistance=7,blockSize=7) #maxcorner to detect "
   ]
  },
  {
   "cell_type": "code",
   "execution_count": 3,
   "metadata": {},
   "outputs": [],
   "source": [
    "#Lucus kanada parameter\n",
    "lk_params=dict(winSize=(300,300),maxLevel=2,criteria=(cv2.TERM_CRITERIA_EPS | cv2.TERM_CRITERIA_COUNT,10,0.03))#pyramid detection"
   ]
  },
  {
   "cell_type": "code",
   "execution_count": null,
   "metadata": {},
   "outputs": [],
   "source": [
    "capture=cv2.VideoCapture(0)\n",
    "\n",
    "ret,prev_frame=capture.read(0)\n",
    "\n",
    "#convert to gray scale\n",
    "\n",
    "pre_gray=cv2.cvtColor(prev_frame,cv2.COLOR_BGR2GRAY)\n",
    "\n",
    "#pts to track\n",
    "prevPts=cv2.goodFeaturesToTrack(image=pre_gray,mask=None,**corner_track_params) #maxCorner qualityLevel,minDistance, blockSize\n",
    "\n",
    "mask=np.zeros_like(pre_gray,dtype=np.int8)\n",
    "\n",
    "while True:\n",
    "    ret,frame=capture.read(0)\n",
    "    frame_gray=cv2.cvtColor(frame,cv2.COLOR_BGR2GRAY)\n",
    "    \n",
    "    nextPts,status,err=cv2.calcOpticalFlowPyrLK(prevImg=pre_gray,nextImg=frame_gray,prevPts=prevPts,nextPts=None,**lk_params)#winSize, maxLevel, criteria\n",
    "    \n",
    "    good_new=nextPts[status==1]\n",
    "    good_prev=prevPts[status==1]\n",
    "    \n",
    "    for i,(nextpts,prevpts) in enumerate(zip(good_new,good_prev)):\n",
    "        x_new,y_new=nextpts.ravel()\n",
    "        x_pre,y_new=prevpts.ravel()\n",
    "        \n",
    "        mask=cv2.line(mask,(x_new,y_new),(x_pre,y_new),color=(0,255,0),thickness=5)\n",
    "        frame=cv2.circle(frame,(x_new,y_new),radius=5,color=(0,255,255),thickness=-1)\n",
    "    img=cv2.add(mask,frame)\n",
    "    cv2.imshow(\"tracking\",img)\n",
    "    \n",
    "    #reassign new to previous of continous trackin\n",
    "    pre_gray=frame_gray\n",
    "    prevPts=good_new\n",
    "    \n",
    "    k=cv2.waitKey(1)    \n",
    "    if k==27:\n",
    "        break\n",
    "        \n",
    "        \n",
    "cv2.destroyAllWindows()   \n",
    "capture.release()"
   ]
  },
  {
   "cell_type": "code",
   "execution_count": 20,
   "metadata": {},
   "outputs": [],
   "source": [
    "capture.release()\n",
    "cv2.destroyAllWindows()"
   ]
  },
  {
   "cell_type": "code",
   "execution_count": 11,
   "metadata": {},
   "outputs": [],
   "source": [
    "capture.release()"
   ]
  },
  {
   "cell_type": "code",
   "execution_count": 1,
   "metadata": {},
   "outputs": [],
   "source": [
    "import cv2"
   ]
  },
  {
   "cell_type": "code",
   "execution_count": null,
   "metadata": {},
   "outputs": [],
   "source": [
    "cv2.calcOpticalFlowFarneback()"
   ]
  },
  {
   "cell_type": "code",
   "execution_count": null,
   "metadata": {},
   "outputs": [],
   "source": [
    "mag,angle=cv2.cartToPolar(flow[:,:,0],flow[:,:,1],angleInDegrees=True)"
   ]
  },
  {
   "cell_type": "code",
   "execution_count": null,
   "metadata": {},
   "outputs": [],
   "source": [
    "hsv_mask[:,:,0]=angle\n",
    "hsv_mask[:,:,2]=cv2.normalize(mag,None,0,255,cv2.NORM_MINMAX)"
   ]
  },
  {
   "cell_type": "code",
   "execution_count": null,
   "metadata": {},
   "outputs": [],
   "source": [
    "2"
   ]
  }
 ],
 "metadata": {
  "kernelspec": {
   "display_name": "Python 3",
   "language": "python",
   "name": "python3"
  },
  "language_info": {
   "codemirror_mode": {
    "name": "ipython",
    "version": 3
   },
   "file_extension": ".py",
   "mimetype": "text/x-python",
   "name": "python",
   "nbconvert_exporter": "python",
   "pygments_lexer": "ipython3",
   "version": "3.7.5"
  }
 },
 "nbformat": 4,
 "nbformat_minor": 4
}
